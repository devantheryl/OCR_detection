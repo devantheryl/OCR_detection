{
 "cells": [
  {
   "cell_type": "code",
   "execution_count": 1,
   "metadata": {},
   "outputs": [],
   "source": [
    "import OCR_detection as ocr\n",
    "import cv2 as cv\n",
    "import random \n",
    "import numpy as np\n",
    "import os\n",
    "from matplotlib import pyplot as plt\n",
    "from os import walk\n",
    "import pandas as pd\n",
    "def dsp(data, rows=10, columns=None):\n",
    "    \n",
    "    pd.options.display.max_rows = rows\n",
    "    pd.options.display.max_columns = columns\n",
    "\n",
    "    display(data)\n",
    "\n",
    "    pd.options.display.max_rows = 15\n",
    "    pd.options.display.max_columns = 20"
   ]
  },
  {
   "cell_type": "code",
   "execution_count": 2,
   "metadata": {},
   "outputs": [],
   "source": [
    "def img_is_color(img):\n",
    "\n",
    "    if len(img.shape) == 3:\n",
    "        # Check the color channels to see if they're all the same.\n",
    "        c1, c2, c3 = img[:, : , 0], img[:, :, 1], img[:, :, 2]\n",
    "        if (c1 == c2).all() and (c2 == c3).all():\n",
    "            return True\n",
    "\n",
    "    return False\n",
    "\n",
    "def show_image_list(list_images, list_titles=None, list_cmaps=None, grid=True, num_cols=2, figsize=(20, 10), title_fontsize=30):\n",
    "    '''\n",
    "    Shows a grid of images, where each image is a Numpy array. The images can be either\n",
    "    RGB or grayscale.\n",
    "\n",
    "    Parameters:\n",
    "    ----------\n",
    "    images: list\n",
    "        List of the images to be displayed.\n",
    "    list_titles: list or None\n",
    "        Optional list of titles to be shown for each image.\n",
    "    list_cmaps: list or None\n",
    "        Optional list of cmap values for each image. If None, then cmap will be\n",
    "        automatically inferred.\n",
    "    grid: boolean\n",
    "        If True, show a grid over each image\n",
    "    num_cols: int\n",
    "        Number of columns to show.\n",
    "    figsize: tuple of width, height\n",
    "        Value to be passed to pyplot.figure()\n",
    "    title_fontsize: int\n",
    "        Value to be passed to set_title().\n",
    "    '''\n",
    "\n",
    "    assert isinstance(list_images, list)\n",
    "    assert len(list_images) > 0\n",
    "    assert isinstance(list_images[0], np.ndarray)\n",
    "\n",
    "    if list_titles is not None:\n",
    "        assert isinstance(list_titles, list)\n",
    "        assert len(list_images) == len(list_titles), '%d imgs != %d titles' % (len(list_images), len(list_titles))\n",
    "\n",
    "    if list_cmaps is not None:\n",
    "        assert isinstance(list_cmaps, list)\n",
    "        assert len(list_images) == len(list_cmaps), '%d imgs != %d cmaps' % (len(list_images), len(list_cmaps))\n",
    "\n",
    "    num_images  = len(list_images)\n",
    "    num_cols    = min(num_images, num_cols)\n",
    "    num_rows    = int(num_images / num_cols) + (1 if num_images % num_cols != 0 else 0)\n",
    "\n",
    "    # Create a grid of subplots.\n",
    "    fig, axes = plt.subplots(num_rows, num_cols, figsize=figsize)\n",
    "    \n",
    "    # Create list of axes for easy iteration.\n",
    "    if isinstance(axes, np.ndarray):\n",
    "        list_axes = list(axes.flat)\n",
    "    else:\n",
    "        list_axes = [axes]\n",
    "\n",
    "    for i in range(num_images):\n",
    "\n",
    "        img    = list_images[i]\n",
    "        title  = list_titles[i] if list_titles is not None else 'Image %d' % (i)\n",
    "        cmap   = list_cmaps[i] if list_cmaps is not None else (None if img_is_color(img) else 'gray')\n",
    "        \n",
    "        list_axes[i].imshow(img, cmap=cmap)\n",
    "        list_axes[i].set_title(title, fontsize=title_fontsize) \n",
    "        list_axes[i].grid(grid)\n",
    "\n",
    "    for i in range(num_images, len(list_axes)):\n",
    "        list_axes[i].set_visible(False)\n",
    "\n",
    "    fig.tight_layout()\n",
    "    _ = plt.show()"
   ]
  },
  {
   "cell_type": "code",
   "execution_count": 3,
   "metadata": {},
   "outputs": [],
   "source": [
    "folder = \"C:/Users/LDE/Prog/OCR_detection/Tests_Analyse/numbers/img_number\" \n",
    "numbers = [\"0\",\"1\",\"2\",\"3\",\"4\",\"5\",\"6\",\"7\",\"8\",\"9\"]\n",
    "columns = [\"img\", \"number\", \"first\",\"position\", \"posx\",\"posy\",\"width\", \"height\"]\n",
    "\n",
    "\n",
    "df = pd.DataFrame(columns = columns)"
   ]
  },
  {
   "cell_type": "code",
   "execution_count": 4,
   "metadata": {
    "scrolled": true
   },
   "outputs": [],
   "source": [
    "for number in numbers:\n",
    "    filename = []\n",
    "    for (dirpath, dirnames, filenames) in walk(folder + number):\n",
    "        filename = [f for f in filenames if \".png\" in f]\n",
    "        break\n",
    "        \n",
    "    for f in filename:\n",
    "        img = cv.rotate\n",
    "        img = cv.rotate(cv.imread(folder + number + \"/\" + f), cv.ROTATE_180)\n",
    "        rectangles,imgs_cropped, img_resized, imgs_th, POIs_total_th, POIs_total_img_resized, POIs_total_img = ocr.find_numbers_positions(img)\n",
    "        for i,(key,poi) in enumerate(POIs_total_img_resized.items()):\n",
    "            \n",
    "            x,y,w,h = rectangles[key]\n",
    "            first = f.split(\"_\")[1].split(\".\")[0]\n",
    "            first = True if first == \"True\" else False\n",
    "            d = {\"img\":[poi],\"number\" : number, \"first\" : first,\"position\" : i, \"posx\" : x,\"posy\":y,\"width\":w,\"height\": h}\n",
    "            new_row = pd.Series(data = d, index = columns)\n",
    "            df = pd.concat([df,new_row.to_frame().T],ignore_index = True)\n",
    "            "
   ]
  },
  {
   "cell_type": "code",
   "execution_count": 5,
   "metadata": {
    "scrolled": true
   },
   "outputs": [
    {
     "name": "stdout",
     "output_type": "stream",
     "text": [
      "[[255 255 255 ... 255 255 255]\n",
      " [255 255 255 ... 255 255 255]\n",
      " [255 255 255 ... 255 255 255]\n",
      " ...\n",
      " [255 255 255 ... 255 255 255]\n",
      " [255 255 255 ... 255 255 255]\n",
      " [255 255 255 ... 255 255 255]]\n"
     ]
    },
    {
     "data": {
      "image/png": "[encoded data removed]",
      "text/plain": [
       "<Figure size 432x288 with 1 Axes>"
      ]
     },
     "metadata": {
      "needs_background": "light"
     },
     "output_type": "display_data"
    }
   ],
   "source": [
    "query = df[((df.number == \"0\") )]#& (df[\"first\"] == False))]\n",
    "#dsp(query)\n",
    "img_0 = []\n",
    "hist_poi_mean = []\n",
    "\n",
    "img_shape = (40,70)\n",
    "nbr_image = 0\n",
    "shape_mean = np.zeros((img_shape[1],img_shape[0]))\n",
    "\n",
    "for i,(index, row) in enumerate(query.iterrows()):\n",
    "    \n",
    "    poi = row[\"img\"][0]\n",
    "    poi_resized = cv.resize(poi, img_shape, interpolation = cv.INTER_AREA)\n",
    "    \n",
    "    poi_th = cv.adaptiveThreshold(poi_resized,255,cv.ADAPTIVE_THRESH_MEAN_C,cv.THRESH_BINARY,51,10)\n",
    "    poi_th_blurred = cv.GaussianBlur(poi_th,(1,5),0)\n",
    "    _,poi_th_blurred_th = cv.threshold(poi_th_blurred,240,255,cv.THRESH_BINARY)\n",
    "    \n",
    "    \n",
    "    equ = cv.equalizeHist(poi_resized)\n",
    "    equ_th = cv.adaptiveThreshold(equ,255,cv.ADAPTIVE_THRESH_MEAN_C,cv.THRESH_BINARY,13,2)\n",
    "    equ_th_masked = np.ma.masked_array(equ_th, mask=poi_th_blurred_th)\n",
    "    \n",
    "    \"\"\"\"\n",
    "    fig, ax = plt.subplots(1,6,figsize = (15,4))\n",
    "    \n",
    "    ax[0].imshow(poi,'gray')\n",
    "    ax[1].imshow(poi_th_blurred_th,'gray')\n",
    "    ax[2].imshow(poi_resized,'gray')\n",
    "    ax[3].imshow(equ,'gray')\n",
    "    ax[4].imshow(equ_th_masked,'gray')\n",
    "    ax[5].text(0,0.5,str(d1))\n",
    "    \n",
    "    #print(np.shape(shape_mean), np.shape(poi_resized))\n",
    "    \"\"\"\n",
    "    shape_mean += poi_th_blurred_th\n",
    "    \n",
    "    \n",
    "shape_mean /= i+1\n",
    "shape_mean = shape_mean.astype('uint8')\n",
    "print(shape_mean)\n",
    "plt.imshow(shape_mean,'gray')\n",
    "plt.show()"
   ]
  },
  {
   "cell_type": "code",
   "execution_count": 6,
   "metadata": {},
   "outputs": [
    {
     "name": "stdout",
     "output_type": "stream",
     "text": [
      "0.0\n"
     ]
    },
    {
     "data": {
      "image/png": "[encoded data removed]",
      "text/plain": [
       "<Figure size 432x288 with 1 Axes>"
      ]
     },
     "metadata": {
      "needs_background": "light"
     },
     "output_type": "display_data"
    }
   ],
   "source": [
    "_, shape_mean_th = cv.threshold(shape_mean,127,255,cv.THRESH_BINARY)\n",
    "shape_mean_th_not = cv.bitwise_not(shape_mean_th)\n",
    "contours,hierarchy = cv.findContours(shape_mean_th_not,cv.RETR_EXTERNAL, cv.CHAIN_APPROX_SIMPLE)\n",
    "ret11 = cv.matchShapes(contours[0],contours[0],1,0.0)\n",
    "\n",
    "print(ret11)\n",
    "\n",
    "plt.imshow(shape_mean_th,'gray')\n",
    "plt.show()"
   ]
  },
  {
   "cell_type": "code",
   "execution_count": null,
   "metadata": {},
   "outputs": [
    {
     "name": "stderr",
     "output_type": "stream",
     "text": [
      "<ipython-input-17-c6d7eec2845b>:34: RuntimeWarning: More than 20 figures have been opened. Figures created through the pyplot interface (`matplotlib.pyplot.figure`) are retained until explicitly closed and may consume too much memory. (To control this warning, see the rcParam `figure.max_open_warning`).\n",
      "  fig, ax = plt.subplots(1,6,figsize = (15,4))\n"
     ]
    }
   ],
   "source": [
    "for i,(index, row) in enumerate(query.iterrows()):\n",
    "    \n",
    "    poi = row[\"img\"][0]\n",
    "    poi_resized = cv.resize(poi, img_shape, interpolation = cv.INTER_AREA)\n",
    "    \n",
    "    poi_th = cv.adaptiveThreshold(poi_resized,255,cv.ADAPTIVE_THRESH_MEAN_C,cv.THRESH_BINARY,51,10)\n",
    "    poi_th_blurred = cv.GaussianBlur(poi_th,(1,5),0)\n",
    "    _,poi_th_blurred_th = cv.threshold(poi_th_blurred,240,255,cv.THRESH_BINARY)\n",
    "    \n",
    "    \n",
    "    equ = cv.equalizeHist(poi_resized)\n",
    "    equ_th = cv.adaptiveThreshold(equ,255,cv.ADAPTIVE_THRESH_MEAN_C,cv.THRESH_BINARY,13,2)\n",
    "    equ_th_masked = np.ma.masked_array(equ_th, mask=shape_mean_th)\n",
    "    \n",
    "    hist_poi = cv.calcHist([poi_th_blurred_th],[0],None,[256],[0,256]) \n",
    "    hist_equ = cv.calcHist([equ_th_masked],[0],None,[256],[0,256]) \n",
    "    \n",
    "    # Calculate Moment\n",
    "    moments_ref = cv.moments(poi_th_blurred_th)\n",
    "    moments_prob = cv.moments(equ_th_masked)\n",
    "    # Calculate Hu Moments\n",
    "    huMoments_ref = cv.HuMoments(moments_ref)\n",
    "    huMoments_prob = cv.HuMoments(moments_prob)\n",
    "    \n",
    "    _, prob_th = cv.threshold(equ_th_masked,10,255,cv.THRESH_BINARY)\n",
    "    prob_th_not = cv.bitwise_not(equ_th_masked)\n",
    "    contours_prob,hierarchy_prob = cv.findContours(prob_th_not,cv.RETR_EXTERNAL, cv.CHAIN_APPROX_SIMPLE)\n",
    "\n",
    "    d  = cv.matchShapes(prob_th_not,shape_mean_th_not,1,0.0)\n",
    "    d1 = len(equ_th_masked[equ_th_masked == 0]) / len(shape_mean_th[shape_mean_th == 0])\n",
    "    \n",
    "    hist_poi_mean.append(hist_poi[0])\n",
    "    \n",
    "    fig, ax = plt.subplots(1,6,figsize = (15,4))\n",
    "    \n",
    "    ax[0].imshow(poi,'gray')\n",
    "    ax[1].imshow(shape_mean_th_not,'gray')\n",
    "    ax[2].imshow(poi_resized,'gray')\n",
    "    ax[3].imshow(equ_th_masked,'gray')\n",
    "    ax[4].imshow(prob_th_not,'gray')\n",
    "    ax[5].text(0,0.5,str(d), str(d1))\n",
    "    \n",
    "    #print(np.shape(shape_mean), np.shape(poi_resized))\n",
    "    \n",
    "    "
   ]
  }
 ],
 "metadata": {
  "kernelspec": {
   "display_name": "Python 3",
   "language": "python",
   "name": "python3"
  },
  "language_info": {
   "codemirror_mode": {
    "name": "ipython",
    "version": 3
   },
   "file_extension": ".py",
   "mimetype": "text/x-python",
   "name": "python",
   "nbconvert_exporter": "python",
   "pygments_lexer": "ipython3",
   "version": "3.8.5"
  }
 },
 "nbformat": 4,
 "nbformat_minor": 4
}
