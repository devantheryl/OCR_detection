{
 "cells": [
  {
   "cell_type": "code",
   "execution_count": 2,
   "metadata": {},
   "outputs": [],
   "source": [
    "import cv2 \n",
    "from matplotlib import pyplot as plt\n",
    "import numpy as np\n",
    "\n"
   ]
  },
  {
   "cell_type": "code",
   "execution_count": 39,
   "metadata": {},
   "outputs": [],
   "source": [
    "# keep in mind that open CV loads images as BGR not RGB\n",
    "folder = \"Tests_Analyse/Conforme__ancienne_police/\"\n",
    "batch_number = \"2-20220225_132614\"\n",
    "filename1 = folder + \"img1_\" + batch_number + \".png\"\n",
    "filename2 = folder + \"img2_\" + batch_number + \".png\"\n",
    "\n",
    "image1 = cv2.imread(filename1)\n",
    "image2 = cv2.imread(filename2)\n",
    "\n"
   ]
  },
  {
   "cell_type": "code",
   "execution_count": 53,
   "metadata": {},
   "outputs": [],
   "source": [
    "## CONVERT TO GRAYSCALE\n",
    "# convert image to grayscale\n",
    "gray_image1 = cv2.cvtColor(image1, cv2.COLOR_BGR2GRAY)\n",
    "gray_image2 = cv2.cvtColor(image2, cv2.COLOR_BGR2GRAY)\n",
    "# display converted image\n",
    "cv2.imshow('Image', gray_image1)\n",
    "cv2.waitKey(0)\n",
    "cv2.destroyAllWindows()\n",
    "cv2.imshow('Image', gray_image2)\n",
    "cv2.waitKey(0)\n",
    "cv2.destroyAllWindows()\n"
   ]
  },
  {
   "cell_type": "code",
   "execution_count": 65,
   "metadata": {},
   "outputs": [],
   "source": [
    "def BrightnessContrast(brightness=0):\n",
    "    \n",
    "    # getTrackbarPos returns the current\n",
    "    # position of the specified trackbar.\n",
    "    brightness = cv2.getTrackbarPos('Brightness',\n",
    "                                    'GEEK')\n",
    "     \n",
    "    contrast = cv2.getTrackbarPos('Contrast',\n",
    "                                  'GEEK')\n",
    " \n",
    "    effect = controller(img, brightness,\n",
    "                        contrast)\n",
    " \n",
    "    # The function imshow displays an image\n",
    "    # in the specified window\n",
    "    cv2.imshow('Effect', effect)"
   ]
  },
  {
   "cell_type": "code",
   "execution_count": 66,
   "metadata": {},
   "outputs": [],
   "source": [
    "def controller(img, brightness=255,\n",
    "               contrast=127):\n",
    "   \n",
    "    brightness = int((brightness - 0) * (255 - (-255)) / (510 - 0) + (-255))\n",
    " \n",
    "    contrast = int((contrast - 0) * (127 - (-127)) / (254 - 0) + (-127))\n",
    " \n",
    "    if brightness != 0:\n",
    " \n",
    "        if brightness > 0:\n",
    " \n",
    "            shadow = brightness\n",
    " \n",
    "            max = 255\n",
    " \n",
    "        else:\n",
    " \n",
    "            shadow = 0\n",
    "            max = 255 + brightness\n",
    " \n",
    "        al_pha = (max - shadow) / 255\n",
    "        ga_mma = shadow\n",
    " \n",
    "        # The function addWeighted calculates\n",
    "        # the weighted sum of two arrays\n",
    "        cal = cv2.addWeighted(img, al_pha,\n",
    "                              img, 0, ga_mma)\n",
    " \n",
    "    else:\n",
    "        cal = img\n",
    " \n",
    "    if contrast != 0:\n",
    "        Alpha = float(131 * (contrast + 127)) / (127 * (131 - contrast))\n",
    "        Gamma = 127 * (1 - Alpha)\n",
    " \n",
    "        # The function addWeighted calculates\n",
    "        # the weighted sum of two arrays\n",
    "        cal = cv2.addWeighted(cal, Alpha,\n",
    "                              cal, 0, Gamma)\n",
    " \n",
    "    # putText renders the specified text string in the image.\n",
    "    cv2.putText(cal, 'B:{},C:{}'.format(brightness,\n",
    "                                        contrast), (10, 30),\n",
    "                cv2.FONT_HERSHEY_SIMPLEX, 1, (0, 0, 255), 2)\n",
    " \n",
    "    return cal"
   ]
  },
  {
   "cell_type": "code",
   "execution_count": 68,
   "metadata": {},
   "outputs": [
    {
     "ename": "NameError",
     "evalue": "name 'img' is not defined",
     "output_type": "error",
     "traceback": [
      "\u001b[1;31m---------------------------------------------------------------------------\u001b[0m",
      "\u001b[1;31mNameError\u001b[0m                                 Traceback (most recent call last)",
      "\u001b[1;32m<ipython-input-68-c58b09fd29d4>\u001b[0m in \u001b[0;36m<module>\u001b[1;34m\u001b[0m\n\u001b[0;32m     21\u001b[0m \u001b[1;33m\u001b[0m\u001b[0m\n\u001b[0;32m     22\u001b[0m \u001b[1;33m\u001b[0m\u001b[0m\n\u001b[1;32m---> 23\u001b[1;33m \u001b[0mBrightnessContrast\u001b[0m\u001b[1;33m(\u001b[0m\u001b[1;36m0\u001b[0m\u001b[1;33m)\u001b[0m\u001b[1;33m\u001b[0m\u001b[1;33m\u001b[0m\u001b[0m\n\u001b[0m",
      "\u001b[1;32m<ipython-input-65-1626f0d65111>\u001b[0m in \u001b[0;36mBrightnessContrast\u001b[1;34m(brightness)\u001b[0m\n\u001b[0;32m      9\u001b[0m                                   'GEEK')\n\u001b[0;32m     10\u001b[0m \u001b[1;33m\u001b[0m\u001b[0m\n\u001b[1;32m---> 11\u001b[1;33m     effect = controller(img, brightness,\n\u001b[0m\u001b[0;32m     12\u001b[0m                         contrast)\n\u001b[0;32m     13\u001b[0m \u001b[1;33m\u001b[0m\u001b[0m\n",
      "\u001b[1;31mNameError\u001b[0m: name 'img' is not defined"
     ]
    }
   ],
   "source": [
    " # The function namedWindow creates a\n",
    "# window that can be used as a placeholder\n",
    "# for images.\n",
    "cv2.namedWindow('GEEK')\n",
    "\n",
    "# The function imshow displays an\n",
    "# image in the specified window.\n",
    "cv2.imshow('GEEK', image1)\n",
    "\n",
    "# createTrackbar(trackbarName,\n",
    "# windowName, value, count, onChange)\n",
    " # Brightness range -255 to 255\n",
    "cv2.createTrackbar('Brightness',\n",
    "                   'GEEK', 255, 2 * 255,\n",
    "                   BrightnessContrast)\n",
    "\n",
    "# Contrast range -127 to 127\n",
    "cv2.createTrackbar('Contrast', 'GEEK',\n",
    "                   127, 2 * 127,\n",
    "                   BrightnessContrast) \n",
    "\n",
    "\n",
    "BrightnessContrast(0)\n"
   ]
  },
  {
   "cell_type": "code",
   "execution_count": null,
   "metadata": {},
   "outputs": [],
   "source": []
  }
 ],
 "metadata": {
  "kernelspec": {
   "display_name": "Python 3",
   "language": "python",
   "name": "python3"
  },
  "language_info": {
   "codemirror_mode": {
    "name": "ipython",
    "version": 3
   },
   "file_extension": ".py",
   "mimetype": "text/x-python",
   "name": "python",
   "nbconvert_exporter": "python",
   "pygments_lexer": "ipython3",
   "version": "3.8.5"
  }
 },
 "nbformat": 4,
 "nbformat_minor": 4
}
